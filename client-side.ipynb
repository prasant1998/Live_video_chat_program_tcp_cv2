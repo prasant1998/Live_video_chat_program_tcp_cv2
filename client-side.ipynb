{
 "cells": [
  {
   "cell_type": "code",
   "execution_count": null,
   "metadata": {},
   "outputs": [],
   "source": [
    "import socket \n",
    "import threading\n",
    "import cv2\n",
    "import numpy as np\n",
    "\n",
    "sckt= socket.socket()\n",
    "sckt.bind((\"\",8081))\n",
    "\n",
    "sender_ip=input(\"Enter the Sender Ip : \")\n",
    "sender_port=int(input(\"Enter the Sender port : \"))\n",
    "sckt.connect((sender_ip,sender_port))\n",
    "cameraIndex = 0\n",
    "camera = cv2.VideoCapture(cameraIndex)\n",
    "\n",
    "\n",
    "def receiver():\n",
    "            frames_error = 0\n",
    "            print(\"Entered\")\n",
    "            while True:\n",
    "                frames += 1\n",
    "                data = sckt.recv(10000000000)\n",
    "                if(data == b'finished'):\n",
    "                    print(\"Finished\")\n",
    "                    camera.release()\n",
    "                    sckt.close()\n",
    "                else:  \n",
    "                   photo =  np.frombuffedata,r( dtype=np.uint8)\n",
    "                   if len(photo) == 640*480*3: \n",
    "                      cv2.imshow('From Server', photo.reshape(480, 640, 3))\n",
    "                      if cv2.waitKey(1) == 13: \n",
    "                        sckt.send(b'finished')\n",
    "                        camera.release()\n",
    "                        cv2.destroyAllWindows()\n",
    "                        break\n",
    "                   else:\n",
    "                       print(\"Unavailable  {} frames\".format(frames_error) )\n",
    " \n",
    "\n",
    "\n",
    "def sender():\n",
    "    while True: \n",
    "        status, photo = camera.read()\n",
    "        photo = cv2.resize(photo, (640, 480))\n",
    "        #photo = cv2.resize(photo, (600, 500))\n",
    "        print(photo.shape)\n",
    "        if status:\n",
    "            sckt.send(np.ndarray.tobytes(photo))\n",
    "        else:\n",
    "          print(\"Not in frame\")\n",
    "    camera.release()\n",
    "\n",
    "\n",
    "threading.Thread(target=receiver).start()\n",
    "threading.Thread(target=sender).start()"
   ]
  },
  {
   "cell_type": "code",
   "execution_count": null,
   "metadata": {},
   "outputs": [],
   "source": []
  }
 ],
 "metadata": {
  "kernelspec": {
   "display_name": "Python 3",
   "language": "python",
   "name": "python3"
  },
  "language_info": {
   "codemirror_mode": {
    "name": "ipython",
    "version": 3
   },
   "file_extension": ".py",
   "mimetype": "text/x-python",
   "name": "python",
   "nbconvert_exporter": "python",
   "pygments_lexer": "ipython3",
   "version": "3.8.3"
  }
 },
 "nbformat": 4,
 "nbformat_minor": 4
}
